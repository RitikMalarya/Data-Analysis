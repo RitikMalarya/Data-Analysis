{
 "cells": [
  {
   "cell_type": "code",
   "execution_count": 1,
   "id": "aa49c250",
   "metadata": {
    "_cell_guid": "b1076dfc-b9ad-4769-8c92-a6c4dae69d19",
    "_uuid": "8f2839f25d086af736a60e9eeb907d3b93b6e0e5",
    "execution": {
     "iopub.execute_input": "2023-04-28T06:22:43.900848Z",
     "iopub.status.busy": "2023-04-28T06:22:43.900259Z",
     "iopub.status.idle": "2023-04-28T06:22:45.190113Z",
     "shell.execute_reply": "2023-04-28T06:22:45.189050Z"
    },
    "papermill": {
     "duration": 1.305003,
     "end_time": "2023-04-28T06:22:45.192918",
     "exception": false,
     "start_time": "2023-04-28T06:22:43.887915",
     "status": "completed"
    },
    "tags": []
   },
   "outputs": [],
   "source": [
    "import numpy as np\n",
    "import pandas as pd\n",
    "import matplotlib.pyplot as plt\n",
    "import seaborn as sns\n",
    "import warnings\n",
    "warnings.filterwarnings('ignore')\n",
    "%matplotlib inline\n",
    "\n",
    "\n",
    "\n"
   ]
  },
  {
   "cell_type": "code",
   "execution_count": 2,
   "id": "f1ba7cbb",
   "metadata": {
    "execution": {
     "iopub.execute_input": "2023-04-28T06:22:45.214701Z",
     "iopub.status.busy": "2023-04-28T06:22:45.213509Z",
     "iopub.status.idle": "2023-04-28T06:22:45.225071Z",
     "shell.execute_reply": "2023-04-28T06:22:45.223506Z"
    },
    "papermill": {
     "duration": 0.025396,
     "end_time": "2023-04-28T06:22:45.227914",
     "exception": false,
     "start_time": "2023-04-28T06:22:45.202518",
     "status": "completed"
    },
    "tags": []
   },
   "outputs": [
    {
     "name": "stdout",
     "output_type": "stream",
     "text": [
      "/kaggle/input/diamonds/diamonds.csv\n"
     ]
    }
   ],
   "source": [
    "import os\n",
    "for dirname, _, filenames in os.walk('/kaggle/input'):\n",
    "    for filename in filenames:\n",
    "        print(os.path.join(dirname, filename))\n"
   ]
  },
  {
   "cell_type": "code",
   "execution_count": 3,
   "id": "ffc2ec93",
   "metadata": {
    "execution": {
     "iopub.execute_input": "2023-04-28T06:22:45.249041Z",
     "iopub.status.busy": "2023-04-28T06:22:45.248574Z",
     "iopub.status.idle": "2023-04-28T06:22:45.374406Z",
     "shell.execute_reply": "2023-04-28T06:22:45.373037Z"
    },
    "papermill": {
     "duration": 0.140038,
     "end_time": "2023-04-28T06:22:45.377480",
     "exception": false,
     "start_time": "2023-04-28T06:22:45.237442",
     "status": "completed"
    },
    "tags": []
   },
   "outputs": [],
   "source": [
    "data = pd.read_csv('../input/diamonds/diamonds.csv')"
   ]
  },
  {
   "cell_type": "code",
   "execution_count": 4,
   "id": "3345c6f1",
   "metadata": {
    "execution": {
     "iopub.execute_input": "2023-04-28T06:22:45.398546Z",
     "iopub.status.busy": "2023-04-28T06:22:45.398110Z",
     "iopub.status.idle": "2023-04-28T06:22:45.433924Z",
     "shell.execute_reply": "2023-04-28T06:22:45.432533Z"
    },
    "papermill": {
     "duration": 0.049532,
     "end_time": "2023-04-28T06:22:45.436599",
     "exception": false,
     "start_time": "2023-04-28T06:22:45.387067",
     "status": "completed"
    },
    "tags": []
   },
   "outputs": [
    {
     "data": {
      "text/html": [
       "<div>\n",
       "<style scoped>\n",
       "    .dataframe tbody tr th:only-of-type {\n",
       "        vertical-align: middle;\n",
       "    }\n",
       "\n",
       "    .dataframe tbody tr th {\n",
       "        vertical-align: top;\n",
       "    }\n",
       "\n",
       "    .dataframe thead th {\n",
       "        text-align: right;\n",
       "    }\n",
       "</style>\n",
       "<table border=\"1\" class=\"dataframe\">\n",
       "  <thead>\n",
       "    <tr style=\"text-align: right;\">\n",
       "      <th></th>\n",
       "      <th>Unnamed: 0</th>\n",
       "      <th>carat</th>\n",
       "      <th>cut</th>\n",
       "      <th>color</th>\n",
       "      <th>clarity</th>\n",
       "      <th>depth</th>\n",
       "      <th>table</th>\n",
       "      <th>price</th>\n",
       "      <th>x</th>\n",
       "      <th>y</th>\n",
       "      <th>z</th>\n",
       "    </tr>\n",
       "  </thead>\n",
       "  <tbody>\n",
       "    <tr>\n",
       "      <th>0</th>\n",
       "      <td>1</td>\n",
       "      <td>0.23</td>\n",
       "      <td>Ideal</td>\n",
       "      <td>E</td>\n",
       "      <td>SI2</td>\n",
       "      <td>61.5</td>\n",
       "      <td>55.0</td>\n",
       "      <td>326</td>\n",
       "      <td>3.95</td>\n",
       "      <td>3.98</td>\n",
       "      <td>2.43</td>\n",
       "    </tr>\n",
       "    <tr>\n",
       "      <th>1</th>\n",
       "      <td>2</td>\n",
       "      <td>0.21</td>\n",
       "      <td>Premium</td>\n",
       "      <td>E</td>\n",
       "      <td>SI1</td>\n",
       "      <td>59.8</td>\n",
       "      <td>61.0</td>\n",
       "      <td>326</td>\n",
       "      <td>3.89</td>\n",
       "      <td>3.84</td>\n",
       "      <td>2.31</td>\n",
       "    </tr>\n",
       "    <tr>\n",
       "      <th>2</th>\n",
       "      <td>3</td>\n",
       "      <td>0.23</td>\n",
       "      <td>Good</td>\n",
       "      <td>E</td>\n",
       "      <td>VS1</td>\n",
       "      <td>56.9</td>\n",
       "      <td>65.0</td>\n",
       "      <td>327</td>\n",
       "      <td>4.05</td>\n",
       "      <td>4.07</td>\n",
       "      <td>2.31</td>\n",
       "    </tr>\n",
       "    <tr>\n",
       "      <th>3</th>\n",
       "      <td>4</td>\n",
       "      <td>0.29</td>\n",
       "      <td>Premium</td>\n",
       "      <td>I</td>\n",
       "      <td>VS2</td>\n",
       "      <td>62.4</td>\n",
       "      <td>58.0</td>\n",
       "      <td>334</td>\n",
       "      <td>4.20</td>\n",
       "      <td>4.23</td>\n",
       "      <td>2.63</td>\n",
       "    </tr>\n",
       "    <tr>\n",
       "      <th>4</th>\n",
       "      <td>5</td>\n",
       "      <td>0.31</td>\n",
       "      <td>Good</td>\n",
       "      <td>J</td>\n",
       "      <td>SI2</td>\n",
       "      <td>63.3</td>\n",
       "      <td>58.0</td>\n",
       "      <td>335</td>\n",
       "      <td>4.34</td>\n",
       "      <td>4.35</td>\n",
       "      <td>2.75</td>\n",
       "    </tr>\n",
       "  </tbody>\n",
       "</table>\n",
       "</div>"
      ],
      "text/plain": [
       "   Unnamed: 0  carat      cut color clarity  depth  table  price     x     y  \\\n",
       "0           1   0.23    Ideal     E     SI2   61.5   55.0    326  3.95  3.98   \n",
       "1           2   0.21  Premium     E     SI1   59.8   61.0    326  3.89  3.84   \n",
       "2           3   0.23     Good     E     VS1   56.9   65.0    327  4.05  4.07   \n",
       "3           4   0.29  Premium     I     VS2   62.4   58.0    334  4.20  4.23   \n",
       "4           5   0.31     Good     J     SI2   63.3   58.0    335  4.34  4.35   \n",
       "\n",
       "      z  \n",
       "0  2.43  \n",
       "1  2.31  \n",
       "2  2.31  \n",
       "3  2.63  \n",
       "4  2.75  "
      ]
     },
     "execution_count": 4,
     "metadata": {},
     "output_type": "execute_result"
    }
   ],
   "source": [
    "data.head()"
   ]
  },
  {
   "cell_type": "code",
   "execution_count": 5,
   "id": "4a70e4f7",
   "metadata": {
    "execution": {
     "iopub.execute_input": "2023-04-28T06:22:45.462049Z",
     "iopub.status.busy": "2023-04-28T06:22:45.461160Z",
     "iopub.status.idle": "2023-04-28T06:22:45.475933Z",
     "shell.execute_reply": "2023-04-28T06:22:45.474767Z"
    },
    "papermill": {
     "duration": 0.031239,
     "end_time": "2023-04-28T06:22:45.478675",
     "exception": false,
     "start_time": "2023-04-28T06:22:45.447436",
     "status": "completed"
    },
    "tags": []
   },
   "outputs": [
    {
     "data": {
      "text/plain": [
       "Index(['carat', 'cut', 'color', 'clarity', 'depth', 'table', 'price', 'length',\n",
       "       'width', 'height'],\n",
       "      dtype='object')"
      ]
     },
     "execution_count": 5,
     "metadata": {},
     "output_type": "execute_result"
    }
   ],
   "source": [
    "data.drop('Unnamed: 0', axis=1, inplace=True)\n",
    "data.columns = ['carat', 'cut', 'color', 'clarity', 'depth', 'table', 'price', 'length', 'width', 'height']\n",
    "data.columns"
   ]
  },
  {
   "cell_type": "code",
   "execution_count": 6,
   "id": "81e50d2d",
   "metadata": {
    "execution": {
     "iopub.execute_input": "2023-04-28T06:22:45.501182Z",
     "iopub.status.busy": "2023-04-28T06:22:45.500043Z",
     "iopub.status.idle": "2023-04-28T06:22:45.507077Z",
     "shell.execute_reply": "2023-04-28T06:22:45.506175Z"
    },
    "papermill": {
     "duration": 0.020631,
     "end_time": "2023-04-28T06:22:45.509335",
     "exception": false,
     "start_time": "2023-04-28T06:22:45.488704",
     "status": "completed"
    },
    "tags": []
   },
   "outputs": [
    {
     "data": {
      "text/plain": [
       "(53940, 10)"
      ]
     },
     "execution_count": 6,
     "metadata": {},
     "output_type": "execute_result"
    }
   ],
   "source": [
    "data.shape"
   ]
  },
  {
   "cell_type": "code",
   "execution_count": 7,
   "id": "a9d8974a",
   "metadata": {
    "execution": {
     "iopub.execute_input": "2023-04-28T06:22:45.531510Z",
     "iopub.status.busy": "2023-04-28T06:22:45.530561Z",
     "iopub.status.idle": "2023-04-28T06:22:45.548225Z",
     "shell.execute_reply": "2023-04-28T06:22:45.546931Z"
    },
    "papermill": {
     "duration": 0.031582,
     "end_time": "2023-04-28T06:22:45.550888",
     "exception": false,
     "start_time": "2023-04-28T06:22:45.519306",
     "status": "completed"
    },
    "tags": []
   },
   "outputs": [
    {
     "data": {
      "text/html": [
       "<div>\n",
       "<style scoped>\n",
       "    .dataframe tbody tr th:only-of-type {\n",
       "        vertical-align: middle;\n",
       "    }\n",
       "\n",
       "    .dataframe tbody tr th {\n",
       "        vertical-align: top;\n",
       "    }\n",
       "\n",
       "    .dataframe thead th {\n",
       "        text-align: right;\n",
       "    }\n",
       "</style>\n",
       "<table border=\"1\" class=\"dataframe\">\n",
       "  <thead>\n",
       "    <tr style=\"text-align: right;\">\n",
       "      <th></th>\n",
       "      <th>carat</th>\n",
       "      <th>cut</th>\n",
       "      <th>color</th>\n",
       "      <th>clarity</th>\n",
       "      <th>depth</th>\n",
       "      <th>table</th>\n",
       "      <th>price</th>\n",
       "      <th>length</th>\n",
       "      <th>width</th>\n",
       "      <th>height</th>\n",
       "    </tr>\n",
       "  </thead>\n",
       "  <tbody>\n",
       "    <tr>\n",
       "      <th>0</th>\n",
       "      <td>0.23</td>\n",
       "      <td>Ideal</td>\n",
       "      <td>E</td>\n",
       "      <td>SI2</td>\n",
       "      <td>61.5</td>\n",
       "      <td>55.0</td>\n",
       "      <td>326</td>\n",
       "      <td>3.95</td>\n",
       "      <td>3.98</td>\n",
       "      <td>2.43</td>\n",
       "    </tr>\n",
       "    <tr>\n",
       "      <th>1</th>\n",
       "      <td>0.21</td>\n",
       "      <td>Premium</td>\n",
       "      <td>E</td>\n",
       "      <td>SI1</td>\n",
       "      <td>59.8</td>\n",
       "      <td>61.0</td>\n",
       "      <td>326</td>\n",
       "      <td>3.89</td>\n",
       "      <td>3.84</td>\n",
       "      <td>2.31</td>\n",
       "    </tr>\n",
       "    <tr>\n",
       "      <th>2</th>\n",
       "      <td>0.23</td>\n",
       "      <td>Good</td>\n",
       "      <td>E</td>\n",
       "      <td>VS1</td>\n",
       "      <td>56.9</td>\n",
       "      <td>65.0</td>\n",
       "      <td>327</td>\n",
       "      <td>4.05</td>\n",
       "      <td>4.07</td>\n",
       "      <td>2.31</td>\n",
       "    </tr>\n",
       "    <tr>\n",
       "      <th>3</th>\n",
       "      <td>0.29</td>\n",
       "      <td>Premium</td>\n",
       "      <td>I</td>\n",
       "      <td>VS2</td>\n",
       "      <td>62.4</td>\n",
       "      <td>58.0</td>\n",
       "      <td>334</td>\n",
       "      <td>4.20</td>\n",
       "      <td>4.23</td>\n",
       "      <td>2.63</td>\n",
       "    </tr>\n",
       "    <tr>\n",
       "      <th>4</th>\n",
       "      <td>0.31</td>\n",
       "      <td>Good</td>\n",
       "      <td>J</td>\n",
       "      <td>SI2</td>\n",
       "      <td>63.3</td>\n",
       "      <td>58.0</td>\n",
       "      <td>335</td>\n",
       "      <td>4.34</td>\n",
       "      <td>4.35</td>\n",
       "      <td>2.75</td>\n",
       "    </tr>\n",
       "  </tbody>\n",
       "</table>\n",
       "</div>"
      ],
      "text/plain": [
       "   carat      cut color clarity  depth  table  price  length  width  height\n",
       "0   0.23    Ideal     E     SI2   61.5   55.0    326    3.95   3.98    2.43\n",
       "1   0.21  Premium     E     SI1   59.8   61.0    326    3.89   3.84    2.31\n",
       "2   0.23     Good     E     VS1   56.9   65.0    327    4.05   4.07    2.31\n",
       "3   0.29  Premium     I     VS2   62.4   58.0    334    4.20   4.23    2.63\n",
       "4   0.31     Good     J     SI2   63.3   58.0    335    4.34   4.35    2.75"
      ]
     },
     "execution_count": 7,
     "metadata": {},
     "output_type": "execute_result"
    }
   ],
   "source": [
    "data.head()"
   ]
  },
  {
   "cell_type": "markdown",
   "id": "91fbe20f",
   "metadata": {
    "papermill": {
     "duration": 0.009872,
     "end_time": "2023-04-28T06:22:45.570979",
     "exception": false,
     "start_time": "2023-04-28T06:22:45.561107",
     "status": "completed"
    },
    "tags": []
   },
   "source": [
    "Data Preprocessing"
   ]
  },
  {
   "cell_type": "code",
   "execution_count": 8,
   "id": "7eefa02e",
   "metadata": {
    "execution": {
     "iopub.execute_input": "2023-04-28T06:22:45.593199Z",
     "iopub.status.busy": "2023-04-28T06:22:45.592705Z",
     "iopub.status.idle": "2023-04-28T06:22:45.601536Z",
     "shell.execute_reply": "2023-04-28T06:22:45.600262Z"
    },
    "papermill": {
     "duration": 0.023191,
     "end_time": "2023-04-28T06:22:45.604314",
     "exception": false,
     "start_time": "2023-04-28T06:22:45.581123",
     "status": "completed"
    },
    "tags": []
   },
   "outputs": [
    {
     "data": {
      "text/plain": [
       "Index(['carat', 'cut', 'color', 'clarity', 'depth', 'table', 'price', 'length',\n",
       "       'width', 'height'],\n",
       "      dtype='object')"
      ]
     },
     "execution_count": 8,
     "metadata": {},
     "output_type": "execute_result"
    }
   ],
   "source": [
    "\n",
    "data.columns = ['carat', 'cut', 'color', 'clarity', 'depth', 'table', 'price', 'length', 'width', 'height']\n",
    "data.columns"
   ]
  },
  {
   "cell_type": "code",
   "execution_count": 9,
   "id": "12eed6b2",
   "metadata": {
    "execution": {
     "iopub.execute_input": "2023-04-28T06:22:45.627873Z",
     "iopub.status.busy": "2023-04-28T06:22:45.627422Z",
     "iopub.status.idle": "2023-04-28T06:22:45.662238Z",
     "shell.execute_reply": "2023-04-28T06:22:45.660621Z"
    },
    "papermill": {
     "duration": 0.049574,
     "end_time": "2023-04-28T06:22:45.664883",
     "exception": false,
     "start_time": "2023-04-28T06:22:45.615309",
     "status": "completed"
    },
    "tags": []
   },
   "outputs": [
    {
     "name": "stdout",
     "output_type": "stream",
     "text": [
      "<class 'pandas.core.frame.DataFrame'>\n",
      "RangeIndex: 53940 entries, 0 to 53939\n",
      "Data columns (total 10 columns):\n",
      " #   Column   Non-Null Count  Dtype  \n",
      "---  ------   --------------  -----  \n",
      " 0   carat    53940 non-null  float64\n",
      " 1   cut      53940 non-null  object \n",
      " 2   color    53940 non-null  object \n",
      " 3   clarity  53940 non-null  object \n",
      " 4   depth    53940 non-null  float64\n",
      " 5   table    53940 non-null  float64\n",
      " 6   price    53940 non-null  int64  \n",
      " 7   length   53940 non-null  float64\n",
      " 8   width    53940 non-null  float64\n",
      " 9   height   53940 non-null  float64\n",
      "dtypes: float64(6), int64(1), object(3)\n",
      "memory usage: 4.1+ MB\n"
     ]
    }
   ],
   "source": [
    "data.info()"
   ]
  },
  {
   "cell_type": "code",
   "execution_count": 10,
   "id": "742a6d16",
   "metadata": {
    "execution": {
     "iopub.execute_input": "2023-04-28T06:22:45.687772Z",
     "iopub.status.busy": "2023-04-28T06:22:45.687320Z",
     "iopub.status.idle": "2023-04-28T06:22:45.763857Z",
     "shell.execute_reply": "2023-04-28T06:22:45.762840Z"
    },
    "papermill": {
     "duration": 0.090713,
     "end_time": "2023-04-28T06:22:45.766246",
     "exception": false,
     "start_time": "2023-04-28T06:22:45.675533",
     "status": "completed"
    },
    "tags": []
   },
   "outputs": [
    {
     "data": {
      "text/html": [
       "<div>\n",
       "<style scoped>\n",
       "    .dataframe tbody tr th:only-of-type {\n",
       "        vertical-align: middle;\n",
       "    }\n",
       "\n",
       "    .dataframe tbody tr th {\n",
       "        vertical-align: top;\n",
       "    }\n",
       "\n",
       "    .dataframe thead th {\n",
       "        text-align: right;\n",
       "    }\n",
       "</style>\n",
       "<table border=\"1\" class=\"dataframe\">\n",
       "  <thead>\n",
       "    <tr style=\"text-align: right;\">\n",
       "      <th></th>\n",
       "      <th>carat</th>\n",
       "      <th>cut</th>\n",
       "      <th>color</th>\n",
       "      <th>clarity</th>\n",
       "      <th>depth</th>\n",
       "      <th>table</th>\n",
       "      <th>price</th>\n",
       "      <th>length</th>\n",
       "      <th>width</th>\n",
       "      <th>height</th>\n",
       "    </tr>\n",
       "  </thead>\n",
       "  <tbody>\n",
       "    <tr>\n",
       "      <th>count</th>\n",
       "      <td>53940.000000</td>\n",
       "      <td>53940</td>\n",
       "      <td>53940</td>\n",
       "      <td>53940</td>\n",
       "      <td>53940.000000</td>\n",
       "      <td>53940.000000</td>\n",
       "      <td>53940.000000</td>\n",
       "      <td>53940.000000</td>\n",
       "      <td>53940.000000</td>\n",
       "      <td>53940.000000</td>\n",
       "    </tr>\n",
       "    <tr>\n",
       "      <th>unique</th>\n",
       "      <td>NaN</td>\n",
       "      <td>5</td>\n",
       "      <td>7</td>\n",
       "      <td>8</td>\n",
       "      <td>NaN</td>\n",
       "      <td>NaN</td>\n",
       "      <td>NaN</td>\n",
       "      <td>NaN</td>\n",
       "      <td>NaN</td>\n",
       "      <td>NaN</td>\n",
       "    </tr>\n",
       "    <tr>\n",
       "      <th>top</th>\n",
       "      <td>NaN</td>\n",
       "      <td>Ideal</td>\n",
       "      <td>G</td>\n",
       "      <td>SI1</td>\n",
       "      <td>NaN</td>\n",
       "      <td>NaN</td>\n",
       "      <td>NaN</td>\n",
       "      <td>NaN</td>\n",
       "      <td>NaN</td>\n",
       "      <td>NaN</td>\n",
       "    </tr>\n",
       "    <tr>\n",
       "      <th>freq</th>\n",
       "      <td>NaN</td>\n",
       "      <td>21551</td>\n",
       "      <td>11292</td>\n",
       "      <td>13065</td>\n",
       "      <td>NaN</td>\n",
       "      <td>NaN</td>\n",
       "      <td>NaN</td>\n",
       "      <td>NaN</td>\n",
       "      <td>NaN</td>\n",
       "      <td>NaN</td>\n",
       "    </tr>\n",
       "    <tr>\n",
       "      <th>mean</th>\n",
       "      <td>0.797940</td>\n",
       "      <td>NaN</td>\n",
       "      <td>NaN</td>\n",
       "      <td>NaN</td>\n",
       "      <td>61.749405</td>\n",
       "      <td>57.457184</td>\n",
       "      <td>3932.799722</td>\n",
       "      <td>5.731157</td>\n",
       "      <td>5.734526</td>\n",
       "      <td>3.538734</td>\n",
       "    </tr>\n",
       "    <tr>\n",
       "      <th>std</th>\n",
       "      <td>0.474011</td>\n",
       "      <td>NaN</td>\n",
       "      <td>NaN</td>\n",
       "      <td>NaN</td>\n",
       "      <td>1.432621</td>\n",
       "      <td>2.234491</td>\n",
       "      <td>3989.439738</td>\n",
       "      <td>1.121761</td>\n",
       "      <td>1.142135</td>\n",
       "      <td>0.705699</td>\n",
       "    </tr>\n",
       "    <tr>\n",
       "      <th>min</th>\n",
       "      <td>0.200000</td>\n",
       "      <td>NaN</td>\n",
       "      <td>NaN</td>\n",
       "      <td>NaN</td>\n",
       "      <td>43.000000</td>\n",
       "      <td>43.000000</td>\n",
       "      <td>326.000000</td>\n",
       "      <td>0.000000</td>\n",
       "      <td>0.000000</td>\n",
       "      <td>0.000000</td>\n",
       "    </tr>\n",
       "    <tr>\n",
       "      <th>25%</th>\n",
       "      <td>0.400000</td>\n",
       "      <td>NaN</td>\n",
       "      <td>NaN</td>\n",
       "      <td>NaN</td>\n",
       "      <td>61.000000</td>\n",
       "      <td>56.000000</td>\n",
       "      <td>950.000000</td>\n",
       "      <td>4.710000</td>\n",
       "      <td>4.720000</td>\n",
       "      <td>2.910000</td>\n",
       "    </tr>\n",
       "    <tr>\n",
       "      <th>50%</th>\n",
       "      <td>0.700000</td>\n",
       "      <td>NaN</td>\n",
       "      <td>NaN</td>\n",
       "      <td>NaN</td>\n",
       "      <td>61.800000</td>\n",
       "      <td>57.000000</td>\n",
       "      <td>2401.000000</td>\n",
       "      <td>5.700000</td>\n",
       "      <td>5.710000</td>\n",
       "      <td>3.530000</td>\n",
       "    </tr>\n",
       "    <tr>\n",
       "      <th>75%</th>\n",
       "      <td>1.040000</td>\n",
       "      <td>NaN</td>\n",
       "      <td>NaN</td>\n",
       "      <td>NaN</td>\n",
       "      <td>62.500000</td>\n",
       "      <td>59.000000</td>\n",
       "      <td>5324.250000</td>\n",
       "      <td>6.540000</td>\n",
       "      <td>6.540000</td>\n",
       "      <td>4.040000</td>\n",
       "    </tr>\n",
       "    <tr>\n",
       "      <th>max</th>\n",
       "      <td>5.010000</td>\n",
       "      <td>NaN</td>\n",
       "      <td>NaN</td>\n",
       "      <td>NaN</td>\n",
       "      <td>79.000000</td>\n",
       "      <td>95.000000</td>\n",
       "      <td>18823.000000</td>\n",
       "      <td>10.740000</td>\n",
       "      <td>58.900000</td>\n",
       "      <td>31.800000</td>\n",
       "    </tr>\n",
       "  </tbody>\n",
       "</table>\n",
       "</div>"
      ],
      "text/plain": [
       "               carat    cut  color clarity         depth         table  \\\n",
       "count   53940.000000  53940  53940   53940  53940.000000  53940.000000   \n",
       "unique           NaN      5      7       8           NaN           NaN   \n",
       "top              NaN  Ideal      G     SI1           NaN           NaN   \n",
       "freq             NaN  21551  11292   13065           NaN           NaN   \n",
       "mean        0.797940    NaN    NaN     NaN     61.749405     57.457184   \n",
       "std         0.474011    NaN    NaN     NaN      1.432621      2.234491   \n",
       "min         0.200000    NaN    NaN     NaN     43.000000     43.000000   \n",
       "25%         0.400000    NaN    NaN     NaN     61.000000     56.000000   \n",
       "50%         0.700000    NaN    NaN     NaN     61.800000     57.000000   \n",
       "75%         1.040000    NaN    NaN     NaN     62.500000     59.000000   \n",
       "max         5.010000    NaN    NaN     NaN     79.000000     95.000000   \n",
       "\n",
       "               price        length         width        height  \n",
       "count   53940.000000  53940.000000  53940.000000  53940.000000  \n",
       "unique           NaN           NaN           NaN           NaN  \n",
       "top              NaN           NaN           NaN           NaN  \n",
       "freq             NaN           NaN           NaN           NaN  \n",
       "mean     3932.799722      5.731157      5.734526      3.538734  \n",
       "std      3989.439738      1.121761      1.142135      0.705699  \n",
       "min       326.000000      0.000000      0.000000      0.000000  \n",
       "25%       950.000000      4.710000      4.720000      2.910000  \n",
       "50%      2401.000000      5.700000      5.710000      3.530000  \n",
       "75%      5324.250000      6.540000      6.540000      4.040000  \n",
       "max     18823.000000     10.740000     58.900000     31.800000  "
      ]
     },
     "execution_count": 10,
     "metadata": {},
     "output_type": "execute_result"
    }
   ],
   "source": [
    "data.describe(include='all')"
   ]
  },
  {
   "cell_type": "code",
   "execution_count": 11,
   "id": "17673a93",
   "metadata": {
    "execution": {
     "iopub.execute_input": "2023-04-28T06:22:45.789709Z",
     "iopub.status.busy": "2023-04-28T06:22:45.789046Z",
     "iopub.status.idle": "2023-04-28T06:22:45.823484Z",
     "shell.execute_reply": "2023-04-28T06:22:45.822139Z"
    },
    "papermill": {
     "duration": 0.049423,
     "end_time": "2023-04-28T06:22:45.826259",
     "exception": false,
     "start_time": "2023-04-28T06:22:45.776836",
     "status": "completed"
    },
    "tags": []
   },
   "outputs": [
    {
     "data": {
      "text/plain": [
       "(53920, 10)"
      ]
     },
     "execution_count": 11,
     "metadata": {},
     "output_type": "execute_result"
    }
   ],
   "source": [
    "data = data.drop(data[data[\"length\"]==0].index)\n",
    "data = data.drop(data[data[\"width\"]==0].index)\n",
    "data = data.drop(data[data[\"height\"]==0].index)\n",
    "data.shape"
   ]
  },
  {
   "cell_type": "code",
   "execution_count": 12,
   "id": "f34dbcda",
   "metadata": {
    "execution": {
     "iopub.execute_input": "2023-04-28T06:22:45.850362Z",
     "iopub.status.busy": "2023-04-28T06:22:45.849617Z",
     "iopub.status.idle": "2023-04-28T06:22:45.856395Z",
     "shell.execute_reply": "2023-04-28T06:22:45.855212Z"
    },
    "papermill": {
     "duration": 0.022012,
     "end_time": "2023-04-28T06:22:45.859008",
     "exception": false,
     "start_time": "2023-04-28T06:22:45.836996",
     "status": "completed"
    },
    "tags": []
   },
   "outputs": [],
   "source": [
    "sns.set_palette('coolwarm')"
   ]
  },
  {
   "cell_type": "code",
   "execution_count": 13,
   "id": "ed158ddb",
   "metadata": {
    "execution": {
     "iopub.execute_input": "2023-04-28T06:22:45.882694Z",
     "iopub.status.busy": "2023-04-28T06:22:45.882007Z",
     "iopub.status.idle": "2023-04-28T06:22:46.824688Z",
     "shell.execute_reply": "2023-04-28T06:22:46.823289Z"
    },
    "papermill": {
     "duration": 0.957643,
     "end_time": "2023-04-28T06:22:46.827444",
     "exception": false,
     "start_time": "2023-04-28T06:22:45.869801",
     "status": "completed"
    },
    "tags": []
   },
   "outputs": [
    {
     "data": {
      "image/png": "[encoded data removed]",
      "text/plain": [
       "<Figure size 1300x500 with 2 Axes>"
      ]
     },
     "metadata": {},
     "output_type": "display_data"
    }
   ],
   "source": [
    "fig, ax = plt.subplots(1,2, figsize=(13,5))\n",
    "sns.histplot(data['carat'], kde=True, ax=ax[0], color='#21cc62')\n",
    "ax[0].set_title('Distribution of carat')\n",
    "sns.boxplot(y=data['carat'], ax=ax[1], color='#21cc62')\n",
    "ax[1].set_title('Distribution of carat')\n",
    "plt.show()"
   ]
  },
  {
   "cell_type": "code",
   "execution_count": 14,
   "id": "530469c2",
   "metadata": {
    "execution": {
     "iopub.execute_input": "2023-04-28T06:22:46.853631Z",
     "iopub.status.busy": "2023-04-28T06:22:46.852122Z",
     "iopub.status.idle": "2023-04-28T06:22:47.340457Z",
     "shell.execute_reply": "2023-04-28T06:22:47.339060Z"
    },
    "papermill": {
     "duration": 0.504284,
     "end_time": "2023-04-28T06:22:47.343212",
     "exception": false,
     "start_time": "2023-04-28T06:22:46.838928",
     "status": "completed"
    },
    "tags": []
   },
   "outputs": [
    {
     "data": {
      "image/png": "[encoded data removed]",
      "text/plain": [
       "<Figure size 640x480 with 1 Axes>"
      ]
     },
     "metadata": {},
     "output_type": "display_data"
    },
    {
     "data": {
      "image/png": "[encoded data removed]",
      "text/plain": [
       "<Figure size 640x480 with 1 Axes>"
      ]
     },
     "metadata": {},
     "output_type": "display_data"
    }
   ],
   "source": [
    "fig = sns.countplot(x=data['cut'])\n",
    "plt.title('Distribution of cut')\n",
    "plt.show()\n",
    "\n",
    "fig = sns.countplot(x=data['color'])\n",
    "plt.title('Distribution of color')\n",
    "plt.show()"
   ]
  },
  {
   "cell_type": "code",
   "execution_count": 15,
   "id": "c79f0d8f",
   "metadata": {
    "execution": {
     "iopub.execute_input": "2023-04-28T06:22:47.370200Z",
     "iopub.status.busy": "2023-04-28T06:22:47.369746Z",
     "iopub.status.idle": "2023-04-28T06:22:49.020065Z",
     "shell.execute_reply": "2023-04-28T06:22:49.018574Z"
    },
    "papermill": {
     "duration": 1.667601,
     "end_time": "2023-04-28T06:22:49.023278",
     "exception": false,
     "start_time": "2023-04-28T06:22:47.355677",
     "status": "completed"
    },
    "tags": []
   },
   "outputs": [
    {
     "data": {
      "image/png": "[encoded data removed]",
      "text/plain": [
       "<Figure size 1300x500 with 2 Axes>"
      ]
     },
     "metadata": {},
     "output_type": "display_data"
    }
   ],
   "source": [
    "fig, ax = plt.subplots(1,2, figsize=(13,5))\n",
    "sns.histplot(data['height'], kde=True, ax=ax[0], color='#b51cd4')\n",
    "ax[0].set_title('Distribution of height')\n",
    "sns.boxplot(y=data['height'], ax=ax[1], color='#b51cd4')\n",
    "ax[1].set_title('Distribution of height')\n",
    "plt.show()"
   ]
  },
  {
   "cell_type": "code",
   "execution_count": 16,
   "id": "9afd11fa",
   "metadata": {
    "execution": {
     "iopub.execute_input": "2023-04-28T06:22:49.052648Z",
     "iopub.status.busy": "2023-04-28T06:22:49.052206Z",
     "iopub.status.idle": "2023-04-28T06:22:49.863500Z",
     "shell.execute_reply": "2023-04-28T06:22:49.862196Z"
    },
    "papermill": {
     "duration": 0.829574,
     "end_time": "2023-04-28T06:22:49.866294",
     "exception": false,
     "start_time": "2023-04-28T06:22:49.036720",
     "status": "completed"
    },
    "tags": []
   },
   "outputs": [
    {
     "data": {
      "image/png": "[encoded data removed]",
      "text/plain": [
       "<Figure size 1300x500 with 2 Axes>"
      ]
     },
     "metadata": {},
     "output_type": "display_data"
    }
   ],
   "source": [
    "fig, ax = plt.subplots(1,2, figsize=(13,5))\n",
    "sns.histplot(data['length'], kde=True, ax=ax[0], color='#b51cd4')\n",
    "ax[0].set_title('Distribution of length')\n",
    "sns.boxplot(y=data['length'], ax=ax[1], color='#b51cd4')\n",
    "ax[1].set_title('Distribution of length')\n",
    "plt.show()"
   ]
  },
  {
   "cell_type": "markdown",
   "id": "2f7eb9e1",
   "metadata": {
    "papermill": {
     "duration": 0.013296,
     "end_time": "2023-04-28T06:22:49.893452",
     "exception": false,
     "start_time": "2023-04-28T06:22:49.880156",
     "status": "completed"
    },
    "tags": []
   },
   "source": [
    "* There are clearly outliers to be seen depth, table, length, width and height columns."
   ]
  },
  {
   "cell_type": "markdown",
   "id": "b6bb5c87",
   "metadata": {
    "papermill": {
     "duration": 0.0134,
     "end_time": "2023-04-28T06:22:49.920839",
     "exception": false,
     "start_time": "2023-04-28T06:22:49.907439",
     "status": "completed"
    },
    "tags": []
   },
   "source": []
  },
  {
   "cell_type": "code",
   "execution_count": 17,
   "id": "3a8c8c43",
   "metadata": {
    "execution": {
     "iopub.execute_input": "2023-04-28T06:22:49.950692Z",
     "iopub.status.busy": "2023-04-28T06:22:49.950281Z",
     "iopub.status.idle": "2023-04-28T06:22:49.955859Z",
     "shell.execute_reply": "2023-04-28T06:22:49.954372Z"
    },
    "papermill": {
     "duration": 0.024404,
     "end_time": "2023-04-28T06:22:49.958696",
     "exception": false,
     "start_time": "2023-04-28T06:22:49.934292",
     "status": "completed"
    },
    "tags": []
   },
   "outputs": [],
   "source": [
    "outlier_cols = ['depth', 'table', 'length', 'width', 'height']"
   ]
  },
  {
   "cell_type": "code",
   "execution_count": 18,
   "id": "3de783b3",
   "metadata": {
    "execution": {
     "iopub.execute_input": "2023-04-28T06:22:49.987598Z",
     "iopub.status.busy": "2023-04-28T06:22:49.987175Z",
     "iopub.status.idle": "2023-04-28T06:22:50.031863Z",
     "shell.execute_reply": "2023-04-28T06:22:50.030934Z"
    },
    "papermill": {
     "duration": 0.062553,
     "end_time": "2023-04-28T06:22:50.034549",
     "exception": false,
     "start_time": "2023-04-28T06:22:49.971996",
     "status": "completed"
    },
    "tags": []
   },
   "outputs": [
    {
     "name": "stdout",
     "output_type": "stream",
     "text": [
      "\n",
      "Column Name: depth\n",
      "Q1: 61.0 | Q2: 62.5 | IQR: 1.5\n",
      "upper bound: 64.75\n",
      "lower bound: 58.75\n",
      "Outliers Count :  2543\n",
      "\n",
      "2543 Outliers removed from depth column.\n",
      "\n",
      "\n",
      "\n",
      "Total outliers removed are 2543.\n",
      "\n",
      "Column Name: table\n",
      "Q1: 56.0 | Q2: 59.0 | IQR: 3.0\n",
      "upper bound: 63.5\n",
      "lower bound: 51.5\n",
      "Outliers Count :  387\n",
      "\n",
      "387 Outliers removed from table column.\n",
      "\n",
      "\n",
      "\n",
      "Total outliers removed are 2930.\n",
      "\n",
      "Column Name: length\n",
      "Q1: 4.69 | Q2: 6.53 | IQR: 1.8399999999999999\n",
      "upper bound: 9.29\n",
      "lower bound: 1.9300000000000006\n",
      "Outliers Count :  15\n",
      "\n",
      "15 Outliers removed from length column.\n",
      "\n",
      "\n",
      "\n",
      "Total outliers removed are 2945.\n",
      "\n",
      "Column Name: width\n",
      "Q1: 4.7 | Q2: 6.52 | IQR: 1.8199999999999994\n",
      "upper bound: 9.249999999999998\n",
      "lower bound: 1.970000000000001\n",
      "Outliers Count :  3\n",
      "\n",
      "3 Outliers removed from width column.\n",
      "\n",
      "\n",
      "\n",
      "Total outliers removed are 2948.\n",
      "\n",
      "Column Name: height\n",
      "Q1: 2.89 | Q2: 4.03 | IQR: 1.1400000000000001\n",
      "upper bound: 5.74\n",
      "lower bound: 1.18\n",
      "Outliers Count :  6\n",
      "\n",
      "6 Outliers removed from height column.\n",
      "\n",
      "\n",
      "\n",
      "Total outliers removed are 2954.\n"
     ]
    }
   ],
   "source": [
    "total_outliers = 0\n",
    "\n",
    "for col in outlier_cols:  \n",
    "    print(f'\\nColumn Name: {col}')\n",
    "    \n",
    "    Q1 = np.percentile(data[col], 25, interpolation = 'midpoint')\n",
    "    Q3 = np.percentile(data[col], 75, interpolation = 'midpoint')\n",
    "    IQR = Q3 - Q1\n",
    "\n",
    "    print(f'Q1: {Q1} | Q2: {Q3} | IQR: {IQR}')\n",
    "    \n",
    "    upper_bound = Q3+1.5*IQR\n",
    "    lower_bound = Q1-1.5*IQR\n",
    "    print(f'upper bound: {upper_bound}')\n",
    "    print(f'lower bound: {lower_bound}')\n",
    "\n",
    "    # Upper bound\n",
    "    upper = data[data[col] >= upper_bound]\n",
    "    # Lower bound\n",
    "    lower = data[data[col] <= lower_bound]\n",
    "    \n",
    "    \n",
    "   \n",
    "    no_of_outliers = len(upper) + len(lower)\n",
    "    print(f\"Outliers Count :  {no_of_outliers}\\n\")\n",
    "    total_outliers += no_of_outliers\n",
    "    \n",
    "    # Remove Outlier\n",
    "    data = data[(data[col]<upper_bound) & (data[col]>lower_bound)]\n",
    "\n",
    "    print(f'{no_of_outliers} Outliers removed from {col} column.\\n')\n",
    "    \n",
    "    print(f'\\n\\nTotal outliers removed are {total_outliers}.')"
   ]
  },
  {
   "cell_type": "code",
   "execution_count": 19,
   "id": "86d2d65b",
   "metadata": {
    "execution": {
     "iopub.execute_input": "2023-04-28T06:22:50.064372Z",
     "iopub.status.busy": "2023-04-28T06:22:50.063624Z",
     "iopub.status.idle": "2023-04-28T06:22:50.071174Z",
     "shell.execute_reply": "2023-04-28T06:22:50.069995Z"
    },
    "papermill": {
     "duration": 0.025172,
     "end_time": "2023-04-28T06:22:50.073679",
     "exception": false,
     "start_time": "2023-04-28T06:22:50.048507",
     "status": "completed"
    },
    "tags": []
   },
   "outputs": [
    {
     "data": {
      "text/plain": [
       "(50966, 10)"
      ]
     },
     "execution_count": 19,
     "metadata": {},
     "output_type": "execute_result"
    }
   ],
   "source": [
    "#data shape\n",
    "data.shape"
   ]
  },
  {
   "cell_type": "code",
   "execution_count": 20,
   "id": "74302156",
   "metadata": {
    "execution": {
     "iopub.execute_input": "2023-04-28T06:22:50.104271Z",
     "iopub.status.busy": "2023-04-28T06:22:50.103816Z",
     "iopub.status.idle": "2023-04-28T06:22:50.354480Z",
     "shell.execute_reply": "2023-04-28T06:22:50.352765Z"
    },
    "papermill": {
     "duration": 0.269533,
     "end_time": "2023-04-28T06:22:50.357314",
     "exception": false,
     "start_time": "2023-04-28T06:22:50.087781",
     "status": "completed"
    },
    "tags": []
   },
   "outputs": [
    {
     "data": {
      "text/html": [
       "<div>\n",
       "<style scoped>\n",
       "    .dataframe tbody tr th:only-of-type {\n",
       "        vertical-align: middle;\n",
       "    }\n",
       "\n",
       "    .dataframe tbody tr th {\n",
       "        vertical-align: top;\n",
       "    }\n",
       "\n",
       "    .dataframe thead th {\n",
       "        text-align: right;\n",
       "    }\n",
       "</style>\n",
       "<table border=\"1\" class=\"dataframe\">\n",
       "  <thead>\n",
       "    <tr style=\"text-align: right;\">\n",
       "      <th></th>\n",
       "      <th>carat</th>\n",
       "      <th>cut</th>\n",
       "      <th>color</th>\n",
       "      <th>clarity</th>\n",
       "      <th>depth</th>\n",
       "      <th>table</th>\n",
       "      <th>price</th>\n",
       "      <th>length</th>\n",
       "      <th>width</th>\n",
       "      <th>height</th>\n",
       "    </tr>\n",
       "  </thead>\n",
       "  <tbody>\n",
       "    <tr>\n",
       "      <th>0</th>\n",
       "      <td>0.23</td>\n",
       "      <td>2</td>\n",
       "      <td>1</td>\n",
       "      <td>3</td>\n",
       "      <td>61.5</td>\n",
       "      <td>55.0</td>\n",
       "      <td>326</td>\n",
       "      <td>3.95</td>\n",
       "      <td>3.98</td>\n",
       "      <td>2.43</td>\n",
       "    </tr>\n",
       "    <tr>\n",
       "      <th>1</th>\n",
       "      <td>0.21</td>\n",
       "      <td>3</td>\n",
       "      <td>1</td>\n",
       "      <td>2</td>\n",
       "      <td>59.8</td>\n",
       "      <td>61.0</td>\n",
       "      <td>326</td>\n",
       "      <td>3.89</td>\n",
       "      <td>3.84</td>\n",
       "      <td>2.31</td>\n",
       "    </tr>\n",
       "    <tr>\n",
       "      <th>3</th>\n",
       "      <td>0.29</td>\n",
       "      <td>3</td>\n",
       "      <td>5</td>\n",
       "      <td>5</td>\n",
       "      <td>62.4</td>\n",
       "      <td>58.0</td>\n",
       "      <td>334</td>\n",
       "      <td>4.20</td>\n",
       "      <td>4.23</td>\n",
       "      <td>2.63</td>\n",
       "    </tr>\n",
       "    <tr>\n",
       "      <th>4</th>\n",
       "      <td>0.31</td>\n",
       "      <td>1</td>\n",
       "      <td>6</td>\n",
       "      <td>3</td>\n",
       "      <td>63.3</td>\n",
       "      <td>58.0</td>\n",
       "      <td>335</td>\n",
       "      <td>4.34</td>\n",
       "      <td>4.35</td>\n",
       "      <td>2.75</td>\n",
       "    </tr>\n",
       "    <tr>\n",
       "      <th>5</th>\n",
       "      <td>0.24</td>\n",
       "      <td>4</td>\n",
       "      <td>6</td>\n",
       "      <td>7</td>\n",
       "      <td>62.8</td>\n",
       "      <td>57.0</td>\n",
       "      <td>336</td>\n",
       "      <td>3.94</td>\n",
       "      <td>3.96</td>\n",
       "      <td>2.48</td>\n",
       "    </tr>\n",
       "  </tbody>\n",
       "</table>\n",
       "</div>"
      ],
      "text/plain": [
       "   carat  cut  color  clarity  depth  table  price  length  width  height\n",
       "0   0.23    2      1        3   61.5   55.0    326    3.95   3.98    2.43\n",
       "1   0.21    3      1        2   59.8   61.0    326    3.89   3.84    2.31\n",
       "3   0.29    3      5        5   62.4   58.0    334    4.20   4.23    2.63\n",
       "4   0.31    1      6        3   63.3   58.0    335    4.34   4.35    2.75\n",
       "5   0.24    4      6        7   62.8   57.0    336    3.94   3.96    2.48"
      ]
     },
     "execution_count": 20,
     "metadata": {},
     "output_type": "execute_result"
    }
   ],
   "source": [
    "from sklearn.preprocessing import LabelEncoder\n",
    "import pickle\n",
    "\n",
    "label_data = data.copy()\n",
    "\n",
    "cut_label_encoder = LabelEncoder()\n",
    "label_data['cut'] = cut_label_encoder.fit_transform(label_data['cut'])\n",
    "cut_encoder = open('cut_encoder.pkl', 'wb')\n",
    "pickle.dump(cut_label_encoder, cut_encoder)\n",
    "cut_encoder.close()\n",
    "\n",
    "color_label_encoder = LabelEncoder()\n",
    "label_data['color'] = color_label_encoder.fit_transform(label_data['color'])\n",
    "color_encoder = open('color_encoder.pkl', 'wb')\n",
    "pickle.dump(color_label_encoder, color_encoder)\n",
    "color_encoder.close()\n",
    "\n",
    "clarity_label_encoder = LabelEncoder()\n",
    "label_data['clarity'] = clarity_label_encoder.fit_transform(label_data['clarity'])\n",
    "\n",
    "clarity_encoder = open('clarity_encoder.pkl', 'wb')\n",
    "pickle.dump(clarity_label_encoder, clarity_encoder)\n",
    "clarity_encoder.close()\n",
    "label_data.head()\n"
   ]
  },
  {
   "cell_type": "markdown",
   "id": "3fb22e66",
   "metadata": {
    "papermill": {
     "duration": 0.013771,
     "end_time": "2023-04-28T06:22:50.384931",
     "exception": false,
     "start_time": "2023-04-28T06:22:50.371160",
     "status": "completed"
    },
    "tags": []
   },
   "source": [
    "# Splitting the Data"
   ]
  },
  {
   "cell_type": "code",
   "execution_count": 21,
   "id": "e5fe50ff",
   "metadata": {
    "execution": {
     "iopub.execute_input": "2023-04-28T06:22:50.414633Z",
     "iopub.status.busy": "2023-04-28T06:22:50.414230Z",
     "iopub.status.idle": "2023-04-28T06:22:50.425162Z",
     "shell.execute_reply": "2023-04-28T06:22:50.423832Z"
    },
    "papermill": {
     "duration": 0.029291,
     "end_time": "2023-04-28T06:22:50.428015",
     "exception": false,
     "start_time": "2023-04-28T06:22:50.398724",
     "status": "completed"
    },
    "tags": []
   },
   "outputs": [],
   "source": [
    "X = label_data.drop('price', axis=1)\n",
    "y = label_data['price']"
   ]
  },
  {
   "cell_type": "markdown",
   "id": "c11790b8",
   "metadata": {
    "papermill": {
     "duration": 0.0137,
     "end_time": "2023-04-28T06:22:50.455483",
     "exception": false,
     "start_time": "2023-04-28T06:22:50.441783",
     "status": "completed"
    },
    "tags": []
   },
   "source": [
    "Linear Regression\n"
   ]
  },
  {
   "cell_type": "code",
   "execution_count": 22,
   "id": "4ecc83ee",
   "metadata": {
    "execution": {
     "iopub.execute_input": "2023-04-28T06:22:50.485019Z",
     "iopub.status.busy": "2023-04-28T06:22:50.484597Z",
     "iopub.status.idle": "2023-04-28T06:22:50.570220Z",
     "shell.execute_reply": "2023-04-28T06:22:50.568686Z"
    },
    "papermill": {
     "duration": 0.104281,
     "end_time": "2023-04-28T06:22:50.573461",
     "exception": false,
     "start_time": "2023-04-28T06:22:50.469180",
     "status": "completed"
    },
    "tags": []
   },
   "outputs": [],
   "source": [
    "from sklearn.model_selection import cross_val_score\n",
    "from sklearn.metrics import r2_score"
   ]
  },
  {
   "cell_type": "code",
   "execution_count": 23,
   "id": "bf02dacb",
   "metadata": {
    "execution": {
     "iopub.execute_input": "2023-04-28T06:22:50.604002Z",
     "iopub.status.busy": "2023-04-28T06:22:50.603330Z",
     "iopub.status.idle": "2023-04-28T06:22:50.621982Z",
     "shell.execute_reply": "2023-04-28T06:22:50.620475Z"
    },
    "papermill": {
     "duration": 0.037252,
     "end_time": "2023-04-28T06:22:50.625064",
     "exception": false,
     "start_time": "2023-04-28T06:22:50.587812",
     "status": "completed"
    },
    "tags": []
   },
   "outputs": [],
   "source": [
    "from sklearn.model_selection import train_test_split\n",
    "X_train, X_test, y_train, y_test = train_test_split(X, y, test_size=0.25, random_state=0)"
   ]
  },
  {
   "cell_type": "code",
   "execution_count": 24,
   "id": "42f2abcc",
   "metadata": {
    "execution": {
     "iopub.execute_input": "2023-04-28T06:22:50.655809Z",
     "iopub.status.busy": "2023-04-28T06:22:50.654554Z",
     "iopub.status.idle": "2023-04-28T06:22:50.660202Z",
     "shell.execute_reply": "2023-04-28T06:22:50.659161Z"
    },
    "papermill": {
     "duration": 0.023317,
     "end_time": "2023-04-28T06:22:50.662507",
     "exception": false,
     "start_time": "2023-04-28T06:22:50.639190",
     "status": "completed"
    },
    "tags": []
   },
   "outputs": [],
   "source": [
    "models = {'model_name':[], 'model':[], 'cv_score':[], 'accuracy':[]}\n"
   ]
  },
  {
   "cell_type": "markdown",
   "id": "f61dbdd4",
   "metadata": {
    "papermill": {
     "duration": 0.013682,
     "end_time": "2023-04-28T06:22:50.690246",
     "exception": false,
     "start_time": "2023-04-28T06:22:50.676564",
     "status": "completed"
    },
    "tags": []
   },
   "source": []
  },
  {
   "cell_type": "code",
   "execution_count": 25,
   "id": "ecc5cd95",
   "metadata": {
    "execution": {
     "iopub.execute_input": "2023-04-28T06:22:50.720780Z",
     "iopub.status.busy": "2023-04-28T06:22:50.720376Z",
     "iopub.status.idle": "2023-04-28T06:22:51.339296Z",
     "shell.execute_reply": "2023-04-28T06:22:51.337239Z"
    },
    "papermill": {
     "duration": 0.640385,
     "end_time": "2023-04-28T06:22:51.344646",
     "exception": false,
     "start_time": "2023-04-28T06:22:50.704261",
     "status": "completed"
    },
    "tags": []
   },
   "outputs": [
    {
     "name": "stdout",
     "output_type": "stream",
     "text": [
      "Model: Linear Regression\n",
      "Cross Validation Score:  1278.9734533600092\n",
      "Accuracy 89.57\n"
     ]
    }
   ],
   "source": [
    "from sklearn.linear_model import LinearRegression\n",
    "linear_regression = LinearRegression()\n",
    "#training\n",
    "linear_regression.fit(X_train, y_train)\n",
    "#prediction\n",
    "predict_y = linear_regression.predict(X_test)\n",
    "\n",
    "\n",
    "#model cross validation score (negative root mean squared error)\n",
    "cv_score = cross_val_score(linear_regression, X_train, y_train, scoring='neg_root_mean_squared_error', cv=15).mean()\n",
    "\n",
    "#model accuracy on test data\n",
    "accuracy = round(r2_score(y_test, predict_y)*100,2)\n",
    "\n",
    "\n",
    "models['model_name'].append('Linear Regression')\n",
    "models['model'].append(linear_regression)\n",
    "models['model'].append(linear_regression)\n",
    "models['cv_score'].append(-cv_score)\n",
    "models['accuracy'].append(accuracy)\n",
    "\n",
    "print('Model: Linear Regression')\n",
    "print('Cross Validation Score: ', -cv_score)\n",
    "print('Accuracy', accuracy)"
   ]
  },
  {
   "cell_type": "markdown",
   "id": "5f7dff5d",
   "metadata": {
    "papermill": {
     "duration": 0.034416,
     "end_time": "2023-04-28T06:22:51.414573",
     "exception": false,
     "start_time": "2023-04-28T06:22:51.380157",
     "status": "completed"
    },
    "tags": []
   },
   "source": [
    "Decision Tree Regressor "
   ]
  },
  {
   "cell_type": "code",
   "execution_count": 26,
   "id": "44198b64",
   "metadata": {
    "execution": {
     "iopub.execute_input": "2023-04-28T06:22:51.467228Z",
     "iopub.status.busy": "2023-04-28T06:22:51.466768Z",
     "iopub.status.idle": "2023-04-28T06:22:55.447184Z",
     "shell.execute_reply": "2023-04-28T06:22:55.446065Z"
    },
    "papermill": {
     "duration": 3.999702,
     "end_time": "2023-04-28T06:22:55.449886",
     "exception": false,
     "start_time": "2023-04-28T06:22:51.450184",
     "status": "completed"
    },
    "tags": []
   },
   "outputs": [
    {
     "name": "stdout",
     "output_type": "stream",
     "text": [
      "Model: Desision Tree Regression\n",
      "Cross Validation Score:  755.3426736953596\n",
      "Accuracy 96.74\n"
     ]
    }
   ],
   "source": [
    "from sklearn.tree import DecisionTreeRegressor\n",
    "decision_tree_regression = DecisionTreeRegressor()\n",
    "decision_tree_regression.fit(X_train, y_train)\n",
    "\n",
    "predict_y = decision_tree_regression.predict(X_test)\n",
    "cv_score = cross_val_score(decision_tree_regression, X_train, y_train, scoring='neg_root_mean_squared_error', cv=15).mean()\n",
    "accuracy = round(r2_score(y_test, predict_y)*100,2)\n",
    "\n",
    "\n",
    "models['model_name'].append('Decision Tree Regression')\n",
    "models['model'].append(decision_tree_regression)\n",
    "models['cv_score'].append(-cv_score)\n",
    "models['accuracy'].append(accuracy)\n",
    "\n",
    "print('Model: Desision Tree Regression')\n",
    "print('Cross Validation Score: ', -cv_score)\n",
    "print('Accuracy', accuracy)\n"
   ]
  },
  {
   "cell_type": "markdown",
   "id": "d813cccb",
   "metadata": {
    "papermill": {
     "duration": 0.01378,
     "end_time": "2023-04-28T06:22:55.477510",
     "exception": false,
     "start_time": "2023-04-28T06:22:55.463730",
     "status": "completed"
    },
    "tags": []
   },
   "source": []
  },
  {
   "cell_type": "markdown",
   "id": "4bdf34c1",
   "metadata": {
    "papermill": {
     "duration": 0.013768,
     "end_time": "2023-04-28T06:22:55.505310",
     "exception": false,
     "start_time": "2023-04-28T06:22:55.491542",
     "status": "completed"
    },
    "tags": []
   },
   "source": [
    "SVM"
   ]
  },
  {
   "cell_type": "markdown",
   "id": "5d7b3486",
   "metadata": {
    "papermill": {
     "duration": 0.013695,
     "end_time": "2023-04-28T06:22:55.533310",
     "exception": false,
     "start_time": "2023-04-28T06:22:55.519615",
     "status": "completed"
    },
    "tags": []
   },
   "source": [
    "Random Forest Regressor "
   ]
  },
  {
   "cell_type": "code",
   "execution_count": 27,
   "id": "301811b8",
   "metadata": {
    "execution": {
     "iopub.execute_input": "2023-04-28T06:22:55.564202Z",
     "iopub.status.busy": "2023-04-28T06:22:55.563019Z",
     "iopub.status.idle": "2023-04-28T07:00:53.166394Z",
     "shell.execute_reply": "2023-04-28T07:00:53.165066Z"
    },
    "papermill": {
     "duration": 2277.635468,
     "end_time": "2023-04-28T07:00:53.182820",
     "exception": false,
     "start_time": "2023-04-28T06:22:55.547352",
     "status": "completed"
    },
    "tags": []
   },
   "outputs": [
    {
     "name": "stdout",
     "output_type": "stream",
     "text": [
      "Model: Support Vector Regression\n",
      "Cross Validation Score:  4258.150267999146\n",
      "Accuracy -12.64\n"
     ]
    }
   ],
   "source": [
    "from sklearn.svm import SVR\n",
    "#model\n",
    "support_vector_regression = SVR()\n",
    "#training\n",
    "support_vector_regression.fit(X_train, y_train)\n",
    "#prediction\n",
    "predict_y = support_vector_regression.predict(X_test)\n",
    "\n",
    "#model cross validation score (negative root mean squared error)\n",
    "cv_score = cross_val_score(support_vector_regression, X_train, y_train, scoring='neg_root_mean_squared_error', cv=15).mean()\n",
    "\n",
    "#model accuracy on test data\n",
    "accuracy = round(r2_score(y_test, predict_y)*100,2)\n",
    "\n",
    "\n",
    "models['model_name'].append('Support Vector Regression')\n",
    "models['model'].append(support_vector_regression)\n",
    "models['cv_score'].append(-cv_score)\n",
    "models['accuracy'].append(accuracy)\n",
    "print('Model: Support Vector Regression')\n",
    "print('Cross Validation Score: ', -cv_score)\n",
    "print('Accuracy', accuracy)\n"
   ]
  },
  {
   "cell_type": "markdown",
   "id": "f05c5b95",
   "metadata": {
    "papermill": {
     "duration": 0.01376,
     "end_time": "2023-04-28T07:00:53.211438",
     "exception": false,
     "start_time": "2023-04-28T07:00:53.197678",
     "status": "completed"
    },
    "tags": []
   },
   "source": []
  },
  {
   "cell_type": "markdown",
   "id": "23f22cf0",
   "metadata": {
    "papermill": {
     "duration": 0.013977,
     "end_time": "2023-04-28T07:00:53.239382",
     "exception": false,
     "start_time": "2023-04-28T07:00:53.225405",
     "status": "completed"
    },
    "tags": []
   },
   "source": [
    "Grading Boost Regressor "
   ]
  },
  {
   "cell_type": "code",
   "execution_count": 28,
   "id": "70f7434b",
   "metadata": {
    "execution": {
     "iopub.execute_input": "2023-04-28T07:00:53.269786Z",
     "iopub.status.busy": "2023-04-28T07:00:53.269380Z",
     "iopub.status.idle": "2023-04-28T07:01:58.346471Z",
     "shell.execute_reply": "2023-04-28T07:01:58.345053Z"
    },
    "papermill": {
     "duration": 65.109176,
     "end_time": "2023-04-28T07:01:58.362451",
     "exception": false,
     "start_time": "2023-04-28T07:00:53.253275",
     "status": "completed"
    },
    "tags": []
   },
   "outputs": [
    {
     "name": "stdout",
     "output_type": "stream",
     "text": [
      "Model: Gradient Boosting Regression\n",
      "Cross Validation Score:  655.7200972335528\n",
      "Accuracy 97.39\n"
     ]
    }
   ],
   "source": [
    "from sklearn.ensemble import GradientBoostingRegressor\n",
    "#model\n",
    "gradient_boosting_regression = GradientBoostingRegressor()\n",
    "#training\n",
    "gradient_boosting_regression.fit(X_train, y_train)\n",
    "#prediction\n",
    "predict_y = gradient_boosting_regression.predict(X_test)\n",
    "\n",
    "#model cross validation score (negative root mean squared error)\n",
    "cv_score = cross_val_score(gradient_boosting_regression, X_train, y_train, scoring='neg_root_mean_squared_error', cv=15).mean()\n",
    "\n",
    "#model accuracy on test data\n",
    "accuracy = round(r2_score(y_test, predict_y)*100,2)\n",
    "\n",
    "\n",
    "models['model_name'].append('Gradient Boosting Regression')\n",
    "models['model'].append(gradient_boosting_regression)\n",
    "models['cv_score'].append(-cv_score)\n",
    "models['accuracy'].append(accuracy)\n",
    "\n",
    "\n",
    "\n",
    "print('Model: Gradient Boosting Regression')\n",
    "print('Cross Validation Score: ', -cv_score)\n",
    "print('Accuracy', accuracy)\n",
    "\n"
   ]
  },
  {
   "cell_type": "code",
   "execution_count": 29,
   "id": "7bdda64b",
   "metadata": {
    "execution": {
     "iopub.execute_input": "2023-04-28T07:01:58.392395Z",
     "iopub.status.busy": "2023-04-28T07:01:58.391976Z",
     "iopub.status.idle": "2023-04-28T07:01:58.567473Z",
     "shell.execute_reply": "2023-04-28T07:01:58.566272Z"
    },
    "papermill": {
     "duration": 0.194086,
     "end_time": "2023-04-28T07:01:58.570301",
     "exception": false,
     "start_time": "2023-04-28T07:01:58.376215",
     "status": "completed"
    },
    "tags": []
   },
   "outputs": [
    {
     "data": {
      "image/png": "[encoded data removed]",
      "text/plain": [
       "<Figure size 1200x500 with 1 Axes>"
      ]
     },
     "metadata": {},
     "output_type": "display_data"
    }
   ],
   "source": [
    "fig = plt.figure(figsize=(12,5))\n",
    "plots = sns.barplot(y=models['model_name'], x=models['accuracy'])"
   ]
  },
  {
   "cell_type": "code",
   "execution_count": 30,
   "id": "87645185",
   "metadata": {
    "execution": {
     "iopub.execute_input": "2023-04-28T07:01:58.602511Z",
     "iopub.status.busy": "2023-04-28T07:01:58.601074Z",
     "iopub.status.idle": "2023-04-28T07:01:58.612488Z",
     "shell.execute_reply": "2023-04-28T07:01:58.611047Z"
    },
    "papermill": {
     "duration": 0.030321,
     "end_time": "2023-04-28T07:01:58.615425",
     "exception": false,
     "start_time": "2023-04-28T07:01:58.585104",
     "status": "completed"
    },
    "tags": []
   },
   "outputs": [],
   "source": [
    "def predict_output(input_val):\n",
    "    \n",
    "    output_val = []\n",
    "    \n",
    "    pkl_file = open('cut_encoder.pkl', 'rb')\n",
    "    cut_input_encoder = pickle.load(pkl_file) \n",
    "    pkl_file.close()\n",
    "\n",
    "    pkl_file = open('color_encoder.pkl', 'rb')\n",
    "    color_input_encoder = pickle.load(pkl_file) \n",
    "    pkl_file.close()\n",
    "\n",
    "    pkl_file = open('clarity_encoder.pkl', 'rb')\n",
    "    clarity_input_encoder = pickle.load(pkl_file) \n",
    "    pkl_file.close()\n",
    "\n",
    "    input_val[1] = cut_input_encoder.transform([input_val[1]])[0]\n",
    "    input_val[2] = color_input_encoder.transform([input_val[2]])[0] \n",
    "    input_val[3] = clarity_input_encoder.transform([input_val[3]])[0]\n",
    "    \n",
    "    for output_model_name,output_model in zip(models['model_name'],models['model']):\n",
    "        output_prediction = round(output_model.predict([input_val])[0],2)\n",
    "        print(f'{output_model_name} : {output_prediction}')\n",
    "        output_val.append(output_prediction)\n",
    "\n",
    "    fig = plt.figure(figsize=(12,5))\n",
    "    plots = sns.barplot(y=models['model_name'], x=output_val)"
   ]
  },
  {
   "cell_type": "code",
   "execution_count": 31,
   "id": "e30735a4",
   "metadata": {
    "execution": {
     "iopub.execute_input": "2023-04-28T07:01:58.647145Z",
     "iopub.status.busy": "2023-04-28T07:01:58.645925Z",
     "iopub.status.idle": "2023-04-28T07:01:58.832022Z",
     "shell.execute_reply": "2023-04-28T07:01:58.831024Z"
    },
    "papermill": {
     "duration": 0.204605,
     "end_time": "2023-04-28T07:01:58.834668",
     "exception": false,
     "start_time": "2023-04-28T07:01:58.630063",
     "status": "completed"
    },
    "tags": []
   },
   "outputs": [
    {
     "name": "stdout",
     "output_type": "stream",
     "text": [
      "Linear Regression : 33738.89\n",
      "Decision Tree Regression : 33738.89\n",
      "Support Vector Regression : 4216.0\n",
      "Gradient Boosting Regression : 2871.51\n"
     ]
    },
    {
     "data": {
      "image/png": "[encoded data removed]",
      "text/plain": [
       "<Figure size 1200x500 with 1 Axes>"
      ]
     },
     "metadata": {},
     "output_type": "display_data"
    }
   ],
   "source": [
    "input_val = [0.5, 'Fair', 'D', 'IF', 62.9, 56.8, 7.8, 45.8, 26.8]\n",
    "    \n",
    "predict_output(input_val)\n"
   ]
  },
  {
   "cell_type": "code",
   "execution_count": null,
   "id": "cb9e100e",
   "metadata": {
    "papermill": {
     "duration": 0.01498,
     "end_time": "2023-04-28T07:01:58.865249",
     "exception": false,
     "start_time": "2023-04-28T07:01:58.850269",
     "status": "completed"
    },
    "tags": []
   },
   "outputs": [],
   "source": [
    "\n"
   ]
  }
 ],
 "metadata": {
  "kernelspec": {
   "display_name": "Python 3",
   "language": "python",
   "name": "python3"
  },
  "language_info": {
   "codemirror_mode": {
    "name": "ipython",
    "version": 3
   },
   "file_extension": ".py",
   "mimetype": "text/x-python",
   "name": "python",
   "nbconvert_exporter": "python",
   "pygments_lexer": "ipython3",
   "version": "3.7.12"
  },
  "papermill": {
   "default_parameters": {},
   "duration": 2366.783312,
   "end_time": "2023-04-28T07:01:59.809858",
   "environment_variables": {},
   "exception": null,
   "input_path": "__notebook__.ipynb",
   "output_path": "__notebook__.ipynb",
   "parameters": {},
   "start_time": "2023-04-28T06:22:33.026546",
   "version": "2.4.0"
  }
 },
 "nbformat": 4,
 "nbformat_minor": 5
}
